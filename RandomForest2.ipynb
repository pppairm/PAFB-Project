{
 "cells": [
  {
   "cell_type": "markdown",
   "metadata": {},
   "source": [
    "## Setup"
   ]
  },
  {
   "cell_type": "code",
   "execution_count": 2,
   "metadata": {},
   "outputs": [],
   "source": [
    "import numpy as np\n",
    "import pandas as pd\n",
    "\n",
    "import matplotlib\n",
    "import matplotlib.pyplot as plt\n",
    "from numpy.polynomial.polynomial import polyfit\n",
    "\n",
    "from sklearn.model_selection import train_test_split\n",
    "from sklearn.datasets import load_iris\n",
    "\n",
    "from sklearn import preprocessing\n",
    "\n",
    "from sklearn.linear_model import LinearRegression\n",
    "\n",
    "from sklearn.ensemble import RandomForestRegressor\n",
    "from sklearn.model_selection import cross_val_score\n",
    "\n",
    "from sklearn import metrics\n",
    "from sklearn.metrics import mean_absolute_error, mean_squared_error, r2_score\n",
    "\n",
    "from sklearn.model_selection import GridSearchCV"
   ]
  },
  {
   "cell_type": "markdown",
   "metadata": {},
   "source": [
    "## Get the data"
   ]
  },
  {
   "cell_type": "code",
   "execution_count": 3,
   "metadata": {},
   "outputs": [
    {
     "data": {
      "text/html": [
       "<div>\n",
       "<style scoped>\n",
       "    .dataframe tbody tr th:only-of-type {\n",
       "        vertical-align: middle;\n",
       "    }\n",
       "\n",
       "    .dataframe tbody tr th {\n",
       "        vertical-align: top;\n",
       "    }\n",
       "\n",
       "    .dataframe thead th {\n",
       "        text-align: right;\n",
       "    }\n",
       "</style>\n",
       "<table border=\"1\" class=\"dataframe\">\n",
       "  <thead>\n",
       "    <tr style=\"text-align: right;\">\n",
       "      <th></th>\n",
       "      <th>make</th>\n",
       "      <th>model</th>\n",
       "      <th>priceUSD</th>\n",
       "      <th>year</th>\n",
       "      <th>condition</th>\n",
       "      <th>mileage(kilometers)</th>\n",
       "      <th>fuel_type</th>\n",
       "      <th>volume(cm3)</th>\n",
       "      <th>color</th>\n",
       "      <th>transmission</th>\n",
       "      <th>drive_unit</th>\n",
       "      <th>segment</th>\n",
       "    </tr>\n",
       "  </thead>\n",
       "  <tbody>\n",
       "    <tr>\n",
       "      <th>0</th>\n",
       "      <td>mazda</td>\n",
       "      <td>2</td>\n",
       "      <td>5500</td>\n",
       "      <td>2008</td>\n",
       "      <td>with mileage</td>\n",
       "      <td>162000.0</td>\n",
       "      <td>petrol</td>\n",
       "      <td>1500.0</td>\n",
       "      <td>burgundy</td>\n",
       "      <td>mechanics</td>\n",
       "      <td>front-wheel drive</td>\n",
       "      <td>B</td>\n",
       "    </tr>\n",
       "    <tr>\n",
       "      <th>1</th>\n",
       "      <td>mazda</td>\n",
       "      <td>2</td>\n",
       "      <td>5350</td>\n",
       "      <td>2009</td>\n",
       "      <td>with mileage</td>\n",
       "      <td>120000.0</td>\n",
       "      <td>petrol</td>\n",
       "      <td>1300.0</td>\n",
       "      <td>black</td>\n",
       "      <td>mechanics</td>\n",
       "      <td>front-wheel drive</td>\n",
       "      <td>B</td>\n",
       "    </tr>\n",
       "    <tr>\n",
       "      <th>2</th>\n",
       "      <td>mazda</td>\n",
       "      <td>2</td>\n",
       "      <td>7000</td>\n",
       "      <td>2009</td>\n",
       "      <td>with mileage</td>\n",
       "      <td>61000.0</td>\n",
       "      <td>petrol</td>\n",
       "      <td>1500.0</td>\n",
       "      <td>silver</td>\n",
       "      <td>auto</td>\n",
       "      <td>front-wheel drive</td>\n",
       "      <td>B</td>\n",
       "    </tr>\n",
       "    <tr>\n",
       "      <th>3</th>\n",
       "      <td>mazda</td>\n",
       "      <td>2</td>\n",
       "      <td>3300</td>\n",
       "      <td>2003</td>\n",
       "      <td>with mileage</td>\n",
       "      <td>265000.0</td>\n",
       "      <td>diesel</td>\n",
       "      <td>1400.0</td>\n",
       "      <td>white</td>\n",
       "      <td>mechanics</td>\n",
       "      <td>front-wheel drive</td>\n",
       "      <td>B</td>\n",
       "    </tr>\n",
       "    <tr>\n",
       "      <th>4</th>\n",
       "      <td>mazda</td>\n",
       "      <td>2</td>\n",
       "      <td>5200</td>\n",
       "      <td>2008</td>\n",
       "      <td>with mileage</td>\n",
       "      <td>97183.0</td>\n",
       "      <td>diesel</td>\n",
       "      <td>1400.0</td>\n",
       "      <td>gray</td>\n",
       "      <td>mechanics</td>\n",
       "      <td>front-wheel drive</td>\n",
       "      <td>B</td>\n",
       "    </tr>\n",
       "    <tr>\n",
       "      <th>...</th>\n",
       "      <td>...</td>\n",
       "      <td>...</td>\n",
       "      <td>...</td>\n",
       "      <td>...</td>\n",
       "      <td>...</td>\n",
       "      <td>...</td>\n",
       "      <td>...</td>\n",
       "      <td>...</td>\n",
       "      <td>...</td>\n",
       "      <td>...</td>\n",
       "      <td>...</td>\n",
       "      <td>...</td>\n",
       "    </tr>\n",
       "    <tr>\n",
       "      <th>55936</th>\n",
       "      <td>lancia</td>\n",
       "      <td>zeta</td>\n",
       "      <td>3650</td>\n",
       "      <td>2000</td>\n",
       "      <td>with mileage</td>\n",
       "      <td>290000.0</td>\n",
       "      <td>petrol</td>\n",
       "      <td>2000.0</td>\n",
       "      <td>other</td>\n",
       "      <td>mechanics</td>\n",
       "      <td>front-wheel drive</td>\n",
       "      <td>M</td>\n",
       "    </tr>\n",
       "    <tr>\n",
       "      <th>55937</th>\n",
       "      <td>lancia</td>\n",
       "      <td>zeta</td>\n",
       "      <td>4100</td>\n",
       "      <td>1999</td>\n",
       "      <td>with mileage</td>\n",
       "      <td>340000.0</td>\n",
       "      <td>diesel</td>\n",
       "      <td>2100.0</td>\n",
       "      <td>blue</td>\n",
       "      <td>mechanics</td>\n",
       "      <td>front-wheel drive</td>\n",
       "      <td>M</td>\n",
       "    </tr>\n",
       "    <tr>\n",
       "      <th>55938</th>\n",
       "      <td>lancia</td>\n",
       "      <td>zeta</td>\n",
       "      <td>3600</td>\n",
       "      <td>1997</td>\n",
       "      <td>with mileage</td>\n",
       "      <td>354000.0</td>\n",
       "      <td>diesel</td>\n",
       "      <td>2100.0</td>\n",
       "      <td>burgundy</td>\n",
       "      <td>mechanics</td>\n",
       "      <td>front-wheel drive</td>\n",
       "      <td>M</td>\n",
       "    </tr>\n",
       "    <tr>\n",
       "      <th>55939</th>\n",
       "      <td>lancia</td>\n",
       "      <td>zeta</td>\n",
       "      <td>3000</td>\n",
       "      <td>1997</td>\n",
       "      <td>with mileage</td>\n",
       "      <td>350000.0</td>\n",
       "      <td>petrol</td>\n",
       "      <td>2000.0</td>\n",
       "      <td>blue</td>\n",
       "      <td>mechanics</td>\n",
       "      <td>front-wheel drive</td>\n",
       "      <td>M</td>\n",
       "    </tr>\n",
       "    <tr>\n",
       "      <th>55940</th>\n",
       "      <td>lancia</td>\n",
       "      <td>zeta</td>\n",
       "      <td>2950</td>\n",
       "      <td>1996</td>\n",
       "      <td>with mileage</td>\n",
       "      <td>3.0</td>\n",
       "      <td>petrol</td>\n",
       "      <td>2000.0</td>\n",
       "      <td>burgundy</td>\n",
       "      <td>mechanics</td>\n",
       "      <td>front-wheel drive</td>\n",
       "      <td>M</td>\n",
       "    </tr>\n",
       "  </tbody>\n",
       "</table>\n",
       "<p>55941 rows × 12 columns</p>\n",
       "</div>"
      ],
      "text/plain": [
       "         make model  priceUSD  year     condition  mileage(kilometers)  \\\n",
       "0       mazda     2      5500  2008  with mileage             162000.0   \n",
       "1       mazda     2      5350  2009  with mileage             120000.0   \n",
       "2       mazda     2      7000  2009  with mileage              61000.0   \n",
       "3       mazda     2      3300  2003  with mileage             265000.0   \n",
       "4       mazda     2      5200  2008  with mileage              97183.0   \n",
       "...       ...   ...       ...   ...           ...                  ...   \n",
       "55936  lancia  zeta      3650  2000  with mileage             290000.0   \n",
       "55937  lancia  zeta      4100  1999  with mileage             340000.0   \n",
       "55938  lancia  zeta      3600  1997  with mileage             354000.0   \n",
       "55939  lancia  zeta      3000  1997  with mileage             350000.0   \n",
       "55940  lancia  zeta      2950  1996  with mileage                  3.0   \n",
       "\n",
       "      fuel_type  volume(cm3)     color transmission         drive_unit segment  \n",
       "0        petrol       1500.0  burgundy    mechanics  front-wheel drive       B  \n",
       "1        petrol       1300.0     black    mechanics  front-wheel drive       B  \n",
       "2        petrol       1500.0    silver         auto  front-wheel drive       B  \n",
       "3        diesel       1400.0     white    mechanics  front-wheel drive       B  \n",
       "4        diesel       1400.0      gray    mechanics  front-wheel drive       B  \n",
       "...         ...          ...       ...          ...                ...     ...  \n",
       "55936    petrol       2000.0     other    mechanics  front-wheel drive       M  \n",
       "55937    diesel       2100.0      blue    mechanics  front-wheel drive       M  \n",
       "55938    diesel       2100.0  burgundy    mechanics  front-wheel drive       M  \n",
       "55939    petrol       2000.0      blue    mechanics  front-wheel drive       M  \n",
       "55940    petrol       2000.0  burgundy    mechanics  front-wheel drive       M  \n",
       "\n",
       "[55941 rows x 12 columns]"
      ]
     },
     "execution_count": 3,
     "metadata": {},
     "output_type": "execute_result"
    }
   ],
   "source": [
    "df = pd.read_csv(\"cars.数据清洗1.csv\")\n",
    "df = df[df['mileage(kilometers)']!= 9999999.0]\n",
    "df = df.drop('Unnamed: 0', axis=1)\n",
    "df.isnull().sum()\n",
    "df"
   ]
  },
  {
   "cell_type": "markdown",
   "metadata": {},
   "source": [
    "## RandomForest Regression "
   ]
  },
  {
   "cell_type": "markdown",
   "metadata": {},
   "source": [
    "#### Train&Test Split"
   ]
  },
  {
   "cell_type": "code",
   "execution_count": 4,
   "metadata": {},
   "outputs": [],
   "source": [
    "train, test = train_test_split(df, test_size=0.15, random_state=42)\n",
    "x= train.drop(['priceUSD'],axis=1)\n",
    "y= train.priceUSD"
   ]
  },
  {
   "cell_type": "markdown",
   "metadata": {},
   "source": [
    "#### pre-processing data - LabelEncoder"
   ]
  },
  {
   "cell_type": "code",
   "execution_count": 5,
   "metadata": {},
   "outputs": [
    {
     "name": "stdout",
     "output_type": "stream",
     "text": [
      "<class 'pandas.core.frame.DataFrame'>\n",
      "Int64Index: 47549 entries, 1045 to 15795\n",
      "Data columns (total 11 columns):\n",
      " #   Column               Non-Null Count  Dtype  \n",
      "---  ------               --------------  -----  \n",
      " 0   make                 47549 non-null  object \n",
      " 1   model                47549 non-null  object \n",
      " 2   year                 47549 non-null  int64  \n",
      " 3   condition            47549 non-null  object \n",
      " 4   mileage(kilometers)  47549 non-null  float64\n",
      " 5   fuel_type            47549 non-null  object \n",
      " 6   volume(cm3)          47549 non-null  float64\n",
      " 7   color                47549 non-null  object \n",
      " 8   transmission         47549 non-null  object \n",
      " 9   drive_unit           47549 non-null  object \n",
      " 10  segment              47549 non-null  object \n",
      "dtypes: float64(2), int64(1), object(8)\n",
      "memory usage: 4.4+ MB\n"
     ]
    }
   ],
   "source": [
    "x.info()"
   ]
  },
  {
   "cell_type": "code",
   "execution_count": 7,
   "metadata": {},
   "outputs": [],
   "source": [
    "le = preprocessing.LabelEncoder()\n",
    "objList = x.select_dtypes(include = \"object\").columns\n",
    "for feat in objList:\n",
    "    x[feat] = le.fit_transform(x[feat].astype(str))"
   ]
  },
  {
   "cell_type": "code",
   "execution_count": 8,
   "metadata": {},
   "outputs": [
    {
     "name": "stdout",
     "output_type": "stream",
     "text": [
      "<class 'pandas.core.frame.DataFrame'>\n",
      "Int64Index: 47549 entries, 1045 to 15795\n",
      "Data columns (total 11 columns):\n",
      " #   Column               Non-Null Count  Dtype  \n",
      "---  ------               --------------  -----  \n",
      " 0   make                 47549 non-null  int32  \n",
      " 1   model                47549 non-null  int32  \n",
      " 2   year                 47549 non-null  int64  \n",
      " 3   condition            47549 non-null  int32  \n",
      " 4   mileage(kilometers)  47549 non-null  float64\n",
      " 5   fuel_type            47549 non-null  int32  \n",
      " 6   volume(cm3)          47549 non-null  float64\n",
      " 7   color                47549 non-null  int32  \n",
      " 8   transmission         47549 non-null  int32  \n",
      " 9   drive_unit           47549 non-null  int32  \n",
      " 10  segment              47549 non-null  int32  \n",
      "dtypes: float64(2), int32(8), int64(1)\n",
      "memory usage: 2.9 MB\n"
     ]
    }
   ],
   "source": [
    "x.info()"
   ]
  },
  {
   "cell_type": "markdown",
   "metadata": {},
   "source": [
    "#### pre-processing data - feature selection"
   ]
  },
  {
   "cell_type": "code",
   "execution_count": 311,
   "metadata": {},
   "outputs": [],
   "source": [
    "# x2 = x.copy()\n",
    "# x2['priceUSD'] = y\n",
    "# data = x2.corr()\n",
    "# data['priceUSD'].sort_values()"
   ]
  },
  {
   "cell_type": "code",
   "execution_count": 312,
   "metadata": {},
   "outputs": [],
   "source": [
    "# x= x.drop(['condition','color','make'],axis=1)"
   ]
  },
  {
   "cell_type": "markdown",
   "metadata": {},
   "source": [
    "#### Regressor - train & evaluation"
   ]
  },
  {
   "cell_type": "code",
   "execution_count": 9,
   "metadata": {},
   "outputs": [],
   "source": [
    "regressor = RandomForestRegressor(random_state=42)\n",
    "regressor.fit(x, y)\n",
    "y_pred = regressor.predict(x)"
   ]
  },
  {
   "cell_type": "code",
   "execution_count": 10,
   "metadata": {},
   "outputs": [
    {
     "name": "stdout",
     "output_type": "stream",
     "text": [
      "Predictions:\t [ 2955.36        8898.98       13242.5         3791.12\n",
      "  1839.05238095]\n",
      "Labels:\t\t [1521, 9000, 14500, 3990, 1500]\n"
     ]
    }
   ],
   "source": [
    "some_data = x.iloc[:5]\n",
    "some_labels = y.iloc[:5]\n",
    "print(\"Predictions:\\t\", regressor.predict(some_data))\n",
    "print(\"Labels:\\t\\t\", list(some_labels))"
   ]
  },
  {
   "cell_type": "code",
   "execution_count": 11,
   "metadata": {},
   "outputs": [
    {
     "name": "stdout",
     "output_type": "stream",
     "text": [
      "Mean Absolute Error: 418.04\n",
      "Mean Squared Error: 1151239.93\n",
      "Root Mean Squared Error: 1072.96\n",
      "R2 score: 0.98307\n"
     ]
    }
   ],
   "source": [
    "print('Mean Absolute Error:', round(metrics.mean_absolute_error(y, y_pred),2))\n",
    "print('Mean Squared Error:', round(metrics.mean_squared_error(y, y_pred),2))\n",
    "print('Root Mean Squared Error:', round(np.sqrt(metrics.mean_squared_error(y, y_pred)),2))\n",
    "print('R2 score:', round(r2_score(y, y_pred),5))"
   ]
  },
  {
   "cell_type": "markdown",
   "metadata": {},
   "source": [
    "#### Improvement - cross validation(k-fold)"
   ]
  },
  {
   "cell_type": "code",
   "execution_count": 12,
   "metadata": {},
   "outputs": [],
   "source": [
    "scores = cross_val_score(regressor, x, y,\n",
    "                         scoring=\"neg_mean_squared_error\", cv=5)\n",
    "rmse_scores = np.sqrt(-scores)"
   ]
  },
  {
   "cell_type": "code",
   "execution_count": 13,
   "metadata": {},
   "outputs": [
    {
     "name": "stdout",
     "output_type": "stream",
     "text": [
      "Scores: [3010.233307   3072.00871348 2767.73243527 2652.73702022 3188.25899731]\n",
      "Mean: 2938.1940946542986\n",
      "Standard deviation: 198.07643702994292\n"
     ]
    }
   ],
   "source": [
    "def display_scores(scores):\n",
    "    print(\"Scores:\", scores)\n",
    "    print(\"Mean:\", scores.mean())\n",
    "    print(\"Standard deviation:\", scores.std())\n",
    "\n",
    "display_scores(rmse_scores)"
   ]
  },
  {
   "cell_type": "code",
   "execution_count": 14,
   "metadata": {},
   "outputs": [
    {
     "name": "stdout",
     "output_type": "stream",
     "text": [
      "Scores: [5877.60422522 5929.25712934 5714.43271037 5979.14534397 6276.58367992]\n",
      "Mean: 5955.40461776043\n",
      "Standard deviation: 183.5884878917176\n"
     ]
    }
   ],
   "source": [
    "lin_reg = LinearRegression()\n",
    "lin_reg.fit(x, y)\n",
    "lin_scores = cross_val_score(lin_reg, x,y,scoring=\"neg_mean_squared_error\", cv=5)\n",
    "\n",
    "lin_rmse_scores = np.sqrt(-lin_scores)\n",
    "display_scores(lin_rmse_scores)"
   ]
  },
  {
   "cell_type": "markdown",
   "metadata": {},
   "source": [
    "#### Adjust parameter  - grid search"
   ]
  },
  {
   "cell_type": "code",
   "execution_count": 18,
   "metadata": {},
   "outputs": [
    {
     "data": {
      "text/plain": [
       "GridSearchCV(cv=5, error_score=nan,\n",
       "             estimator=RandomForestRegressor(bootstrap=True, ccp_alpha=0.0,\n",
       "                                             criterion='mse', max_depth=None,\n",
       "                                             max_features='auto',\n",
       "                                             max_leaf_nodes=None,\n",
       "                                             max_samples=None,\n",
       "                                             min_impurity_decrease=0.0,\n",
       "                                             min_impurity_split=None,\n",
       "                                             min_samples_leaf=1,\n",
       "                                             min_samples_split=2,\n",
       "                                             min_weight_fraction_leaf=0.0,\n",
       "                                             n_estimators=100, n_jobs=None,\n",
       "                                             oob_score=False, random_state=42,\n",
       "                                             verbose=0, warm_start=False),\n",
       "             iid='deprecated', n_jobs=None,\n",
       "             param_grid=[{'max_features': [2, 4, 6, 8],\n",
       "                          'n_estimators': [3, 10, 30]},\n",
       "                         {'bootstrap': [False], 'max_features': [2, 3, 4],\n",
       "                          'n_estimators': [3, 10]}],\n",
       "             pre_dispatch='2*n_jobs', refit=True, return_train_score=False,\n",
       "             scoring='neg_mean_squared_error', verbose=0)"
      ]
     },
     "execution_count": 18,
     "metadata": {},
     "output_type": "execute_result"
    }
   ],
   "source": [
    "param_grid = [\n",
    "    {'n_estimators': [3, 10, 30], 'max_features': [2, 4, 6, 8]},\n",
    "    {'bootstrap': [False], 'n_estimators': [3, 10], 'max_features': [2, 3, 4]},\n",
    "  ]\n",
    "\n",
    "forest_reg = RandomForestRegressor(random_state=42)\n",
    "\n",
    "grid_search = GridSearchCV(forest_reg, param_grid, cv=5,\n",
    "                           scoring='neg_mean_squared_error')\n",
    "\n",
    "grid_search.fit(x, y)"
   ]
  },
  {
   "cell_type": "code",
   "execution_count": 19,
   "metadata": {},
   "outputs": [
    {
     "data": {
      "text/plain": [
       "{'max_features': 4, 'n_estimators': 30}"
      ]
     },
     "execution_count": 19,
     "metadata": {},
     "output_type": "execute_result"
    }
   ],
   "source": [
    "grid_search.best_params_"
   ]
  },
  {
   "cell_type": "code",
   "execution_count": 20,
   "metadata": {},
   "outputs": [
    {
     "name": "stdout",
     "output_type": "stream",
     "text": [
      "3437.802186517139 {'max_features': 2, 'n_estimators': 3}\n",
      "3080.1072458173903 {'max_features': 2, 'n_estimators': 10}\n",
      "2916.4994039985895 {'max_features': 2, 'n_estimators': 30}\n",
      "3299.3808827527905 {'max_features': 4, 'n_estimators': 3}\n",
      "2976.8176470344665 {'max_features': 4, 'n_estimators': 10}\n",
      "2811.188933547781 {'max_features': 4, 'n_estimators': 30}\n",
      "3346.5886136306044 {'max_features': 6, 'n_estimators': 3}\n",
      "2910.4259161545774 {'max_features': 6, 'n_estimators': 10}\n",
      "2823.577589841722 {'max_features': 6, 'n_estimators': 30}\n",
      "3387.880934473622 {'max_features': 8, 'n_estimators': 3}\n",
      "3023.879801553018 {'max_features': 8, 'n_estimators': 10}\n",
      "2872.51677785608 {'max_features': 8, 'n_estimators': 30}\n",
      "3413.007312803658 {'bootstrap': False, 'max_features': 2, 'n_estimators': 3}\n",
      "2951.7638272530357 {'bootstrap': False, 'max_features': 2, 'n_estimators': 10}\n",
      "3232.309687265242 {'bootstrap': False, 'max_features': 3, 'n_estimators': 3}\n",
      "2846.1185776480415 {'bootstrap': False, 'max_features': 3, 'n_estimators': 10}\n",
      "3172.9550646763546 {'bootstrap': False, 'max_features': 4, 'n_estimators': 3}\n",
      "2866.9278007525772 {'bootstrap': False, 'max_features': 4, 'n_estimators': 10}\n"
     ]
    }
   ],
   "source": [
    "cvres = grid_search.cv_results_\n",
    "for mean_score, params in zip(cvres[\"mean_test_score\"], cvres[\"params\"]):\n",
    "    print(np.sqrt(-mean_score), params)"
   ]
  },
  {
   "cell_type": "markdown",
   "metadata": {},
   "source": [
    "#### model - test"
   ]
  },
  {
   "cell_type": "code",
   "execution_count": 21,
   "metadata": {},
   "outputs": [],
   "source": [
    "final_model = grid_search.best_estimator_\n",
    "\n",
    "X_test = test.drop(\"priceUSD\", axis=1)\n",
    "y_test = test[\"priceUSD\"].copy()"
   ]
  },
  {
   "cell_type": "code",
   "execution_count": 22,
   "metadata": {},
   "outputs": [],
   "source": [
    "X_test_tra = X_test.copy()\n",
    "le = preprocessing.LabelEncoder()\n",
    "objList = X_test_tra.select_dtypes(include = \"object\").columns\n",
    "for feat in objList:\n",
    "    X_test_tra[feat] = le.fit_transform(X_test_tra[feat].astype(str))"
   ]
  },
  {
   "cell_type": "code",
   "execution_count": 23,
   "metadata": {},
   "outputs": [
    {
     "name": "stdout",
     "output_type": "stream",
     "text": [
      "Mean Absolute Error: 1402.56\n",
      "Mean Squared Error: 10023041.43\n",
      "Root Mean Squared Error: 3165.92\n",
      "R2 score: 0.86621\n"
     ]
    }
   ],
   "source": [
    "final_predictions = final_model.predict(X_test_tra)\n",
    "\n",
    "print('Mean Absolute Error:', round(metrics.mean_absolute_error(y_test, final_predictions),2))\n",
    "print('Mean Squared Error:', round(metrics.mean_squared_error(y_test, final_predictions),2))\n",
    "print('Root Mean Squared Error:', round(np.sqrt(metrics.mean_squared_error(y_test, final_predictions)),2))\n",
    "print('R2 score:', round(r2_score(y_test, final_predictions),5))"
   ]
  },
  {
   "cell_type": "code",
   "execution_count": 25,
   "metadata": {},
   "outputs": [
    {
     "data": {
      "text/plain": [
       "Text(0, 0.5, 'Price')"
      ]
     },
     "execution_count": 25,
     "metadata": {},
     "output_type": "execute_result"
    },
    {
     "data": {
      "image/png": "[encoded data removed]",
      "text/plain": [
       "<Figure size 864x720 with 2 Axes>"
      ]
     },
     "metadata": {
      "needs_background": "light"
     },
     "output_type": "display_data"
    }
   ],
   "source": [
    "plt.figure(figsize=(12,10))\n",
    "\n",
    "x_axis=X_test['year']\n",
    "y_axis=y_test\n",
    "plt.subplot(2, 1, 1)\n",
    "plt.scatter(x_axis,y_axis,alpha=0.5)\n",
    "plt.title('Actual')\n",
    "plt.xlabel('year')\n",
    "plt.ylabel('Price')\n",
    "\n",
    "x_pre=X_test['year']\n",
    "y_pre=final_predictions\n",
    "plt.subplot(2, 1, 2)\n",
    "plt.scatter(x_pre,y_pre,alpha=0.5,color='g')\n",
    "plt.title('Predicted')\n",
    "plt.xlabel('year')\n",
    "plt.ylabel('Price')"
   ]
  },
  {
   "cell_type": "markdown",
   "metadata": {},
   "source": [
    "## Overpriced"
   ]
  },
  {
   "cell_type": "code",
   "execution_count": 329,
   "metadata": {},
   "outputs": [
    {
     "data": {
      "text/plain": [
       "43234   -1249.966667\n",
       "11500     555.000000\n",
       "21582    -287.300000\n",
       "32898    -888.333333\n",
       "36827    -605.966667\n",
       "            ...     \n",
       "6417     -803.400000\n",
       "52895    1087.133333\n",
       "4459    -1968.633333\n",
       "53063   -1882.966667\n",
       "40327     167.600000\n",
       "Name: priceUSD, Length: 8392, dtype: float64"
      ]
     },
     "execution_count": 329,
     "metadata": {},
     "output_type": "execute_result"
    }
   ],
   "source": [
    "y_error = y_test-final_predictions\n",
    "y_error"
   ]
  },
  {
   "cell_type": "code",
   "execution_count": 335,
   "metadata": {},
   "outputs": [
    {
     "data": {
      "text/plain": [
       "20667    108336.600000\n",
       "20083     81070.066667\n",
       "49003     59104.733333\n",
       "50660     51708.500000\n",
       "21967     46697.233333\n",
       "             ...      \n",
       "2098          1.600000\n",
       "39494         1.400000\n",
       "1621          1.000000\n",
       "32176         0.633333\n",
       "37088         0.033333\n",
       "Name: priceUSD, Length: 8392, dtype: float64"
      ]
     },
     "execution_count": 335,
     "metadata": {},
     "output_type": "execute_result"
    }
   ],
   "source": [
    "y_error_sort = abs(y_error).sort_values(ascending=False)\n",
    "y_error_sort"
   ]
  },
  {
   "cell_type": "code",
   "execution_count": 379,
   "metadata": {},
   "outputs": [],
   "source": [
    "makemodel = X_test.loc[y_error_sort.index]['make'] + \" \" + X_test.loc[y_error_sort.index]['model']\n",
    "x_ax = pd.Series(makemodel[:10], name = 'makemodel')\n",
    "y_ax = y_error_sort[:10]"
   ]
  },
  {
   "cell_type": "code",
   "execution_count": 380,
   "metadata": {},
   "outputs": [
    {
     "data": {
      "text/plain": [
       "20667    bentley continental-gt\n",
       "20083      mercedes-benz cl-amg\n",
       "49003        volkswagen touareg\n",
       "50660     mercedes-benz v-klass\n",
       "21967          aston-martin dbs\n",
       "41541                   audi q5\n",
       "5841                porsche 911\n",
       "32756                  lexus lx\n",
       "21286        chevrolet corvette\n",
       "51985       eksklyuziv vezdehod\n",
       "Name: makemodel, dtype: object"
      ]
     },
     "execution_count": 380,
     "metadata": {},
     "output_type": "execute_result"
    }
   ],
   "source": [
    "x_ax"
   ]
  },
  {
   "cell_type": "code",
   "execution_count": 398,
   "metadata": {},
   "outputs": [
    {
     "data": {
      "image/png": "[encoded data removed]",
      "text/plain": [
       "<Figure size 936x432 with 1 Axes>"
      ]
     },
     "metadata": {
      "needs_background": "light"
     },
     "output_type": "display_data"
    }
   ],
   "source": [
    "plt.figure(figsize=(13,6))\n",
    "plt.title(\"Top 10 Overpriced Cars\")\n",
    "plt.bar(x_ax, y_ax, color=\"g\", align=\"center\")\n",
    "\n",
    "plt.xticks(rotation=90)\n",
    "plt.xlabel('Car Make and Model')\n",
    "plt.ylabel('Price')\n",
    "plt.show()"
   ]
  },
  {
   "cell_type": "code",
   "execution_count": null,
   "metadata": {},
   "outputs": [],
   "source": []
  }
 ],
 "metadata": {
  "kernelspec": {
   "display_name": "Python 3",
   "language": "python",
   "name": "python3"
  },
  "language_info": {
   "codemirror_mode": {
    "name": "ipython",
    "version": 3
   },
   "file_extension": ".py",
   "mimetype": "text/x-python",
   "name": "python",
   "nbconvert_exporter": "python",
   "pygments_lexer": "ipython3",
   "version": "3.7.6"
  }
 },
 "nbformat": 4,
 "nbformat_minor": 4
}
